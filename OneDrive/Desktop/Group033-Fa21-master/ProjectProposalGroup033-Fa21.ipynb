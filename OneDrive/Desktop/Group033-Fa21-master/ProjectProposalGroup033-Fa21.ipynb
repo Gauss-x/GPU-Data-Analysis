{
 "cells": [
  {
   "cell_type": "markdown",
   "metadata": {},
   "source": [
    "# COGS 108 - Final Project Proposal"
   ]
  },
  {
   "cell_type": "markdown",
   "metadata": {},
   "source": [
    "# Names\n",
    "\n",
    "- Cameron VanderTuig\n",
    "- Wilson Tan\n",
    "- Erdogan Ergit\n",
    "- Tony Diep\n",
    "- Henry Chan"
   ]
  },
  {
   "cell_type": "markdown",
   "metadata": {},
   "source": [
    "# Research Question"
   ]
  },
  {
   "cell_type": "markdown",
   "metadata": {},
   "source": [
    "How does the release of highly expected, popular, and graphically intensive games affect CPU and GPU sales globally?"
   ]
  },
  {
   "cell_type": "markdown",
   "metadata": {},
   "source": [
    "## Background and Prior Work"
   ]
  },
  {
   "cell_type": "markdown",
   "metadata": {},
   "source": [
    "The graphics processing unit (GPU) and the central processing unit (CPU) are perhaps the two of the most important parts of PC gaming. \"A GPU is a single-chip processor that’s used chiefly to manage and enhance video and graphics performance.\"[1] The CPU is the brain of a computer, containing all the requirements to process input, store data, and output. They are both important in their own right. Powerful games usually require a powerful GPU and a smart CPU. Video games have been getting more advanced in terms of their video quality and AI, which requires both CPU and GPU [2]. However, there has been a lack of research and understanding, beyond the traditional perspective, about how the new releases drive hardware purchases. So, we aim to determine if the new game releases affect computer hardware sales.  \n",
    "\n",
    "References (include links):\n",
    "- 1)  https://www.hp.com/us-en/shop/tech-takes/gpu-vs-cpu-for-pc-gaming#:~:text=The%20GPU%20is%20an%20extremely,enhance%20video%20and%20graphics%20performance.\n",
    "- 2)  https://www.thelogocreative.co.uk/the-evolution-of-video-game-graphics/ "
   ]
  },
  {
   "cell_type": "markdown",
   "metadata": {},
   "source": [
    "# Hypothesis\n"
   ]
  },
  {
   "cell_type": "markdown",
   "metadata": {},
   "source": [
    "We predict that the release of popular, graphically intensive video games is positively correlated with computer hardware sales. Traditionally, computer hardware sales would increase with the arrival of new popular games. Most of the time, new games would come with better graphics, which would require better hardware. So, in this case, one might predict that computer hardware sales might increase with the arrival of new popular games."
   ]
  },
  {
   "cell_type": "markdown",
   "metadata": {},
   "source": [
    "# Data"
   ]
  },
  {
   "cell_type": "markdown",
   "metadata": {},
   "source": [
    "Our variables are \"increase in usage % per GPU\" and \"popular video game releases\". The data will be collected from several public datasets online and Steam surveys. Data will be organized by month. Ideally, one data set would contain the sales and popularity data of video games in certain month periods (Amount of sales, sales revenue, Playtime, Average amount of players, etc.) and another would contain sales and popularity data about various computer hardware including CPUs, GPUs, memory sticks, and more (Each containing data about their prices, sales figures, revenue, etc.). Ideally, these would be situated in a CSV file, but much of the data from steam will need to be scraped off of their website where they post their public analytics, every previous month will need to be scraped off that website through the Wayback machine."
   ]
  },
  {
   "cell_type": "markdown",
   "metadata": {},
   "source": [
    "# Ethics & Privacy"
   ]
  },
  {
   "cell_type": "markdown",
   "metadata": {},
   "source": [
    "We don't see any potentially harmful effects/uses of the results that will be gathered from this project. Data that will be used in this project is public information and anonymity and consent was given for the data that required participants."
   ]
  },
  {
   "cell_type": "markdown",
   "metadata": {},
   "source": [
    "# Team Expectations "
   ]
  },
  {
   "cell_type": "markdown",
   "metadata": {},
   "source": [
    "Everyone is expected to contribute equally, unless there is a really technical part one of us specializes in."
   ]
  },
  {
   "cell_type": "markdown",
   "metadata": {},
   "source": [
    "# Project Timeline Proposal"
   ]
  },
  {
   "cell_type": "markdown",
   "metadata": {},
   "source": [
    "| Meeting Date  | Meeting Time| Completed Before Meeting  | Discuss at Meeting |\n",
    "|---|---|---|---|\n",
    "| 10/8   |  1 PM | Read & Think about COGS 108 expectations; brainstorm topics/questions | Determine the best form of communication; Discuss and decide on final project topic; discuss hypothesis; begin background research | \n",
    "| 10/15  | 10 AM | Do background research on topic | Discuss ideal dataset(s) and ethics; draft project proposal | \n",
    "| 10/23  | 12 PM | Edit, finalize, and submit the proposal; Search for datasets | Discuss Wrangling and possible analytical approaches; Assign group members to lead each specific part   |\n",
    "| 10/31  | 12 PM | Import & Wrangle Data; EDA | Review/Edit wrangling/EDA; Discuss Analysis Plan |\n",
    "| 11/14  | 12 PM | Finalize wrangling/EDA; Begin Analysis | Discuss/edit Analysis; Complete project check-in |\n",
    "| 12/5   | 12 PM | Complete analysis; Draft results/conclusion/discussion | Discuss/edit full project |\n",
    "| 12/10  | Before 11:59 PM  | NA | Turn in Final Project & Group Project Surveys |"
   ]
  }
 ],
 "metadata": {
  "kernelspec": {
   "display_name": "Python 3 (ipykernel)",
   "language": "python",
   "name": "python3"
  },
  "language_info": {
   "codemirror_mode": {
    "name": "ipython",
    "version": 3
   },
   "file_extension": ".py",
   "mimetype": "text/x-python",
   "name": "python",
   "nbconvert_exporter": "python",
   "pygments_lexer": "ipython3",
   "version": "3.8.6"
  }
 },
 "nbformat": 4,
 "nbformat_minor": 2
}
